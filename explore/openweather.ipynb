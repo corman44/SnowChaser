{
 "metadata": {
  "language_info": {
   "codemirror_mode": {
    "name": "ipython",
    "version": 3
   },
   "file_extension": ".py",
   "mimetype": "text/x-python",
   "name": "python",
   "nbconvert_exporter": "python",
   "pygments_lexer": "ipython3",
   "version": "3.8.5-final"
  },
  "orig_nbformat": 2,
  "kernelspec": {
   "name": "python38564bitb1ff7c5377524c549d03140ef24977c0",
   "display_name": "Python 3.8.5 64-bit",
   "language": "python"
  }
 },
 "nbformat": 4,
 "nbformat_minor": 2,
 "cells": [
  {
   "cell_type": "code",
   "execution_count": 5,
   "metadata": {},
   "outputs": [
    {
     "output_type": "stream",
     "name": "stdout",
     "text": [
      "{'coord': {'lon': -122.68, 'lat': 45.52}, 'weather': [{'id': 500, 'main': 'Rain', 'description': 'light rain', 'icon': '10n'}], 'base': 'stations', 'main': {'temp': 281.75, 'feels_like': 275.91, 'temp_min': 280.93, 'temp_max': 282.59, 'pressure': 1011, 'humidity': 87}, 'visibility': 10000, 'wind': {'speed': 7.2, 'deg': 130}, 'rain': {'1h': 0.39}, 'clouds': {'all': 90}, 'dt': 1609743440, 'sys': {'type': 1, 'id': 5321, 'country': 'US', 'sunrise': 1609689047, 'sunset': 1609720781}, 'timezone': -28800, 'id': 5746545, 'name': 'Portland', 'cod': 200}\n"
     ]
    }
   ],
   "source": [
    "import requests\n",
    "\n",
    "openweather_url = 'http://api.openweathermap.org/data/2.5/'\n",
    "openweather_token = '1a4d180ffc35d8e5f8cd405d6caf99f1'\n",
    "openweather_weather = 'weather'\n",
    "header = {}\n",
    "payload = {'appid': openweather_token, 'q': 'Portland'}\n",
    "\n",
    "r = requests.get(openweather_url + openweather_weather, headers=header, params=payload)\n",
    "\n",
    "print(r.json())"
   ]
  }
 ]
}