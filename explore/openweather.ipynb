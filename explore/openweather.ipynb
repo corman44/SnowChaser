{
 "metadata": {
  "language_info": {
   "codemirror_mode": {
    "name": "ipython",
    "version": 3
   },
   "file_extension": ".py",
   "mimetype": "text/x-python",
   "name": "python",
   "nbconvert_exporter": "python",
   "pygments_lexer": "ipython3",
   "version": "3.8.5-final"
  },
  "orig_nbformat": 2,
  "kernelspec": {
   "name": "python38564bitf36e64cbb5184a00b9e1a69d991d271c",
   "display_name": "Python 3.8.5 64-bit",
   "language": "python"
  }
 },
 "nbformat": 4,
 "nbformat_minor": 2,
 "cells": [
  {
   "cell_type": "code",
   "execution_count": 3,
   "metadata": {},
   "outputs": [
    {
     "output_type": "stream",
     "name": "stdout",
     "text": [
      "[b'{\"cod\":\"404\",\"message\":\"Internal error\"}']\n"
     ]
    }
   ],
   "source": [
    "import requests\n",
    "\n",
    "openweather_url = 'http://api.openweathermap.org/data/2.5/'\n",
    "openweather_token = '1a4d180ffc35d8e5f8cd405d6caf99f1'\n",
    "openweather_weather = 'weather'\n",
    "header = {}\n",
    "payload = {'appid': openweather_token}\n",
    "\n",
    "r = list(requests.get(openweather_url + openweather_weather, headers=header, params=payload))\n",
    "\n",
    "print(r)"
   ]
  }
 ]
}